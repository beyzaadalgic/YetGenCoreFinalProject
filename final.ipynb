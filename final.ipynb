{
 "cells": [
  {
   "cell_type": "code",
   "execution_count": 1,
   "metadata": {},
   "outputs": [
    {
     "name": "stdout",
     "output_type": "stream",
     "text": [
      "hello world\n"
     ]
    }
   ],
   "source": [
    "print(\"hello world\")\n",
    "\n",
    "\n",
    "gffdgçidfg"
   ]
  },
  {
   "cell_type": "markdown",
   "metadata": {},
   "source": [
    "dasdasdasds"
   ]
  },
  {
   "cell_type": "code",
   "execution_count": 1,
   "metadata": {},
   "outputs": [
    {
     "name": "stdout",
     "output_type": "stream",
     "text": [
      "beyza\n"
     ]
    }
   ],
   "source": [
    "print(\"beyza\")"
   ]
  },
  {
   "cell_type": "code",
   "execution_count": 1,
   "metadata": {},
   "outputs": [
    {
     "name": "stdout",
     "output_type": "stream",
     "text": [
      "lady bytes\n"
     ]
    }
   ],
   "source": [
    "print(\"lady bytes\")"
   ]
  },
  {
   "cell_type": "code",
   "execution_count": null,
   "metadata": {},
   "outputs": [],
   "source": [
    "class DiyetPlan :\n",
    "    def _init_(self, yas, cinsiyet, kilo, boy, hareketSeviyesi, diyetTipi = 'standart', gunler = 7) : \n",
    "        #sınıfın kurucusu.verileri alıp hesaplamalar için gerekli yerlere yazar\n",
    "\n",
    "    self.yas = yas\n",
    "    self.cinsiyet = cinsiyet\n",
    "    self.kilo = kilo\n",
    "    self.boy = boy\n",
    "    self.hareketSeviyesi = hareketSeviyesi\n",
    "    self.diyetTipi = diyetTipi\n",
    "    self.gunler = gunler\n",
    "    self.gerekliKalori = self.kaloriHesapla()\n",
    "    self.yiyecekler = self.yiyecekListesi()\n",
    "\n",
    "    def kaloriHesapla(self) :\n",
    "    # kullanıcının günlük kalori ihtiyacını hesaplarken Basal Metabolic Rate(BMR) formülü kullanılıyor.\n",
    "    #Aktivite seviyesine göre BMR çarpanı ekleniyor.\n",
    "     #Geri dönüş : float, günlük kalori ihtiyacı  \n",
    "    if self.cinsiyet == 'male' :\n",
    "        # erkekler için BMR hesaplama formülü\n",
    "        bmr = 10 * self.kilo + 6.25 * self.boy - 5 * self.yas + 5\n",
    "    else :\n",
    "        # kadınlar için BMR hesaplama formülü\n",
    "        bmr = 10 * self.kilo + 6.25 * self.boy - 5 * self.yas - 161\n",
    "        # aktivite seviyesine göre çarpanlar\n",
    "        hareketCarpani = { 'hareketsiz': 1.2, 'hafif hareket' : 1.375, 'orta' : 1.55, 'aktif' : 1.725 }\n",
    "        return bmr * hareketCarpani[self.hareketSeviyesi]\n",
    "\n",
    "        def yiyecekListesi(self) :\n",
    "        # diyet tipine göre uygun yemekleri yüklüyor.\n",
    "        #geri dönüş : dict, diyet tipine göre yemek listeleri\n",
    "\n",
    "         return {\n",
    "    'standart': {\n",
    "        'kahvaltı': [\n",
    "            ('yoğurt', 150, 10, 15, 4),       # Kalori, Protein, Karbonhidrat, Yağ\n",
    "            ('tam buğday ekmeği', 80, 3, 15, 1),\n",
    "            ('elma', 95, 0, 25, 0)\n",
    "        ],\n",
    "        'öğle': [\n",
    "            ('tavuk göğsü', 165, 31, 0, 3),\n",
    "            ('bulgur pilavı', 130, 5, 30, 1),\n",
    "            ('salata', 50, 2, 7, 0)\n",
    "        ],\n",
    "        'akşam': [\n",
    "            ('kırmızı et', 250, 22, 0, 20),\n",
    "            ('patates', 120, 2, 30, 0),\n",
    "            ('sebze garnitür', 60, 3, 10, 1)\n",
    "        ],\n",
    "        'ara öğün': [\n",
    "            ('ceviz', 190, 5, 4, 18),\n",
    "            ('muz', 105, 1, 27, 0),\n",
    "            ('süt', 120, 8, 12, 5)\n",
    "        ]\n",
    "    },\n",
    "    'vegan': {\n",
    "        'kahvaltı': [\n",
    "            ('smoothie', 200, 5, 50, 1),\n",
    "            ('chia pudingi', 180, 6, 20, 9)\n",
    "        ],\n",
    "        'öğle': [\n",
    "            ('tofu sote', 250, 20, 30, 10),\n",
    "            ('kinoa salatası', 200, 6, 35, 5)\n",
    "        ],\n",
    "        'akşam': [\n",
    "            ('mercimek çorbası', 250, 18, 40, 8),\n",
    "            ('vegan burger', 300, 22, 45, 12)\n",
    "        ],\n",
    "        'ara öğün': [\n",
    "            ('humus & havuç', 150, 4, 20, 8),\n",
    "            ('meyve salatası', 100, 1, 25, 0)\n",
    "        ]\n",
    "    }\n",
    "}"
   ]
  }
 ],
 "metadata": {
  "kernelspec": {
   "display_name": "Python 3",
   "language": "python",
   "name": "python3"
  },
  "language_info": {
   "codemirror_mode": {
    "name": "ipython",
    "version": 3
   },
   "file_extension": ".py",
   "mimetype": "text/x-python",
   "name": "python",
   "nbconvert_exporter": "python",
   "pygments_lexer": "ipython3",
   "version": "3.12.3"
  }
 },
 "nbformat": 4,
 "nbformat_minor": 2
}
