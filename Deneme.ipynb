import pandas as pd
import numpy as np
import random

class DietPlan:
    def __init__(self, age, gender, weight, height, activity_level, diet_type='standard', days=7):
        """
        DietPlan sınıfının kurucusu. Kullanıcı bilgilerini alır ve gerekli hesaplamalar için sınıf değişkenlerine atar.
        
        age: int, kullanıcının yaşı
        gender: str, kullanıcının cinsiyeti ('male' veya 'female')
        weight: float, kullanıcının kilosu (kg)
        height: float, kullanıcının boyu (cm)
        activity_level: str, kullanıcının aktivite seviyesi ('sedentary', 'light', 'moderate', 'active')
        diet_type: str, diyet tipi ('standard' veya 'vegan')
        days: int, diyet planının süresi (gün)
        """
        self.age = age
        self.gender = gender
        self.weight = weight
        self.height = height
        self.activity_level = activity_level
        self.diet_type = diet_type
        self.days = days
        self.calories_needed = self.calculate_calories()
        self.foods = self.load_foods()

    def calculate_calories(self):
        """
        Kullanıcının günlük kalori ihtiyacını hesaplar. Basal Metabolic Rate (BMR) formülü kullanılır.
        Aktivite seviyesine göre BMR çarpanı eklenir.
        
        Geri dönüş: float, günlük kalori ihtiyacı
        """
        if self.gender == 'male':
            # Erkekler için BMR hesaplama formülü
            bmr = 10 * self.weight + 6.25 * self.height - 5 * self.age + 5
        else:
            # Kadınlar için BMR hesaplama formülü
            bmr = 10 * self.weight + 6.25 * self.height - 5 * self.age - 161
        # Aktivite seviyesine göre çarpanlar
        activity_multiplier = {'sedentary': 1.2, 'light': 1.375, 'moderate': 1.55, 'active': 1.725}
        return bmr * activity_multiplier[self.activity_level]

    def load_foods(self):
        """
        Diyet tipine göre uygun yemekleri yükler.
        
        Geri dönüş: dict, diyet tipine göre yemek listeleri
        """
        return {
            'standard': {
                'breakfast': [('oatmeal', 150, 5, 27, 3), ('egg', 78, 6, 1, 5), ('banana', 105, 1, 27, 0)],
                'lunch': [('chicken breast', 165, 31, 0, 3), ('quinoa', 120, 4, 21, 2), ('broccoli', 55, 4, 11, 0)],
                'dinner': [('salmon', 200, 22, 0, 13), ('sweet potato', 112, 2, 26, 0), ('asparagus', 40, 2, 7, 0)],
                'snack': [('almonds', 160, 6, 6, 14), ('apple', 95, 0, 25, 0), ('yogurt', 59, 10, 3, 0)]
            },
            'vegan': {
                'breakfast': [('smoothie', 200, 5, 50, 1), ('chia pudding', 180, 6, 20, 9)],
                'lunch': [('tofu stir-fry', 250, 20, 30, 10), ('quinoa salad', 200, 6, 35, 5)],
                'dinner': [('lentil soup', 250, 18, 40, 8), ('vegan burger', 300, 22, 45, 12)],
                'snack': [('hummus & carrots', 150, 4, 20, 8), ('fruit salad', 100, 1, 25, 0)]
            }
        }

    def create_diet_plan(self):
        """
        Kullanıcının günlük kalori ihtiyacına göre haftalık bir diyet planı oluşturur.
        
        Geri dönüş: list, günlük yemek planlarını içeren haftalık plan
        """
        chosen_foods = self.foods[self.diet_type]
        weekly_plan = []
        for day in range(self.days):
            day_plan = {}
            for meal, items in chosen_foods.items():
                meal_calories = sum([item[1] for item in items])
                # Her öğünün kullanıcıya göre ne kadar tüketileceğini belirleyen oran
                portion = self.calories_needed / (meal_calories * 4)
                day_plan[meal] = [(item[0], item[1] * portion, item[2] * portion, item[3] * portion, item[4] * portion) for item in items]
            weekly_plan.append(day_plan)
        return weekly_plan

    def summarize_diet_plan(self, weekly_plan):
        """
        Haftalık diyet planını özetler ve her günün toplam kalori, protein, karbonhidrat ve yağ miktarını hesaplar.
        
        weekly_plan: list, haftalık diyet planı
        Geri dönüş: list, her günün besin değerlerini içeren özet
        """
        summary = []
        for day_plan in weekly_plan:
            day_summary = {}
            for meal, items in day_plan.items():
                total_calories = sum([item[1] for item in items])
                total_protein = sum([item[2] for item in items])
                total_carbs = sum([item[3] for item in items])
                total_fat = sum([item[4] for item in items])
                day_summary[meal] = {
                    'calories': total_calories,
                    'protein': total_protein,
                    'carbs': total_carbs,
                    'fat': total_fat
                }
            summary.append(day_summary)
        return summary

    def adjust_diet_plan(self, plan, feedback):
        """
        Kullanıcıdan gelen geri bildirimlere göre diyet planını ayarlar.
        
        plan: dict, günlük diyet planı
        feedback: float, diyet planında istenen değişim yüzdesi
        Geri dönüş: dict, ayarlanmış diyet planı
        """
        adjustment_factor = 1 + feedback / 100
        adjusted_plan = {}
        for meal, items in plan.items():
            adjusted_plan[meal] = [(item[0], item[1] * adjustment_factor, item[2] * adjustment_factor, item[3] * adjustment_factor, item[4] * adjustment_factor) for item in items]
        return adjusted_plan

# Kullanıcı bilgilerini alırken oluşabilecek hataları kontrol eden fonksiyon
def get_user_input():
    while True:
        try:
            age = int(input("Yaşınızı girin: "))
            if age < 0:
                raise ValueError("Yaş negatif olamaz.")
            break
        except ValueError as e:
            print(f"Hata: {e}. Lütfen geçerli bir yaş girin.")

    while True:
        gender = input("Cinsiyetinizi girin (male/female): ").lower()
        if gender in ['male', 'female']:
            break
        else:
            print("Hata: Geçersiz cinsiyet. Lütfen 'male' veya 'female' girin.")

    while True:
        try:
            weight = float(input("Kilonuzu kg olarak girin: "))
            if weight < 0:
                raise ValueError("Kilo negatif olamaz.")
            break
        except ValueError as e:
            print(f"Hata: {e}. Lütfen geçerli bir kilo girin.")

    while True:
        try:
            height = float(input("Boyunuzu cm olarak girin: "))
            if height < 0:
                raise ValueError("Boy negatif olamaz.")
            break
        except ValueError as e:
            print(f"Hata: {e}. Lütfen geçerli bir boy girin.")

    while True:
        activity_level = input("Aktivite seviyenizi girin (sedentary, light, moderate, active): ").lower()
        if activity_level in ['sedentary', 'light', 'moderate', 'active']:
            break
        else:
            print("Hata: Geçersiz aktivite seviyesi. Lütfen 'sedentary', 'light', 'moderate' veya 'active' girin.")

    return age, gender, weight, height, activity_level

# Kullanıcıdan bilgileri al
age, gender, weight, height, activity_level = get_user_input()

# DietPlan sınıfı örneğini oluştur
diet_plan = DietPlan(age, gender, weight, height, activity_level)

# Diyet planını oluştur ve özetle
weekly_plan = diet_plan.create_diet_plan()
summary = diet_plan.summarize_diet_plan(weekly_plan)

# Diyet planı özetini yazdır
for day, day_summary in enumerate(summary):
    print(f"Gün {day + 1}:")
    for meal, nutrients in day_summary.items():
        print(f"  {meal.capitalize()}: Kalori: {nutrients['calories']:.2f}, Protein: {nutrients['protein']:.2f}g, Karbonhidrat: {nutrients['carbs']:.2f}g, Yağ: {nutrients['fat']:.2f}g")
    print()
